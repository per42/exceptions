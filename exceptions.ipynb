{
 "cells": [
  {
   "cell_type": "code",
   "execution_count": 3,
   "metadata": {},
   "outputs": [],
   "source": [
    "import graphviz as gv\n",
    "from IPython.display import Image\n",
    "from pydantic.dataclasses import dataclass\n",
    "import uuid"
   ]
  },
  {
   "cell_type": "code",
   "execution_count": 15,
   "metadata": {},
   "outputs": [],
   "source": [
    "def display_g(g):\n",
    "    display(Image(filename=g.render(format=\"png\")))"
   ]
  },
  {
   "cell_type": "code",
   "execution_count": 4,
   "metadata": {},
   "outputs": [],
   "source": [
    "@dataclass\n",
    "class Op:\n",
    "    fn: \"Function\"\n",
    "    created: str|None\n",
    "    handle: dict[str, str|list[\"Op\"]]\n",
    "\n",
    "@dataclass\n",
    "class Function:\n",
    "    name: str\n",
    "    ops: list[Op]\n",
    "\n",
    "program = Function(\"Task\", [Op(Function(\"Drive\", []), None, {\"_\": \"Failed to drive\"})])\n"
   ]
  },
  {
   "cell_type": "code",
   "execution_count": null,
   "metadata": {},
   "outputs": [],
   "source": [
    "class Language:\n",
    "    def visit_Function(Function):\n",
    "        pass"
   ]
  },
  {
   "cell_type": "code",
   "execution_count": null,
   "metadata": {},
   "outputs": [],
   "source": [
    "class Cxx:\n",
    "    def __init__(self):\n",
    "        self.root = gv.Digraph()\n",
    "        self.g = self.root\n",
    "        curr = \"start\"\n",
    "        self.g.node(curr, \"start\")\n",
    "        self.last = curr\n",
    "        self.ret=[\"end\"]\n",
    "        self.g.node(self.ret[-1], \"end\")\n",
    "        self.created = []\n",
    "\n",
    "    def visit_Function(self, f: Function):\n",
    "        # self.g.node(str(f), f\"{f.name} {f.}()\")\n",
    "        self.g = self.g.subgraph(name=str(f), comment=f.name)\n",
    "        for op in f.ops:\n",
    "            self.visit_Op(op)\n",
    "\n",
    "    \n",
    "    def visit_Op(self, op: Op):\n",
    "        self.g.node(str(op), f\"{op.fn.name} {op.created}{{}}\")\n",
    "        curr = str(op)\n",
    "        self.g.edge(self.last, curr)\n",
    "        self.last = curr\n",
    "        if len(op.handle) == 0:\n",
    "            self.g.edge(curr, self.ret, style=\"--\")\n",
    "\n"
   ]
  },
  {
   "cell_type": "code",
   "execution_count": null,
   "metadata": {},
   "outputs": [],
   "source": [
    "\n",
    "g = gv.Digraph()\n",
    "g.edge(\"foo\", \"bar\", weight=\"1\")\n",
    "g.edge(\"foo\", \"baaz\", weight=\"1\")\n",
    "g.edge(\"baaz\", \"baaz1\", weight=\"1\")\n",
    "g.edge(\"baaz1\", \"foo\", weight=\"0\")\n",
    "\n",
    "display_g(g)"
   ]
  },
  {
   "cell_type": "code",
   "execution_count": null,
   "metadata": {},
   "outputs": [],
   "source": []
  }
 ],
 "metadata": {
  "kernelspec": {
   "display_name": ".venv",
   "language": "python",
   "name": "python3"
  },
  "language_info": {
   "codemirror_mode": {
    "name": "ipython",
    "version": 3
   },
   "file_extension": ".py",
   "mimetype": "text/x-python",
   "name": "python",
   "nbconvert_exporter": "python",
   "pygments_lexer": "ipython3",
   "version": "3.12.7"
  }
 },
 "nbformat": 4,
 "nbformat_minor": 2
}
